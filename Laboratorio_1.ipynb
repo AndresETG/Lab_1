{
 "cells": [
  {
   "attachments": {},
   "cell_type": "markdown",
   "metadata": {},
   "source": [
    "# Laboratorio 1"
   ]
  },
  {
   "attachments": {},
   "cell_type": "markdown",
   "metadata": {},
   "source": [
    "Cuando una persona comienza su aventura en el mundo de la programación, muchas veces la prioridad suele ser que el códido compile sin errores y que funcione como esperamos sin importar cómo lleguemos al resultado, pero a medida que un programador realiza proyectos y gana experiencia para subir de nivel, la complejidad en sus códigos también incrementa. Llega un punto en que tenemos miles de líneas de código y el proyecto no compila y no sabemos dónde está el error. O cuando múltiples personas se encuentran trabajando en un mismo proyecto, pero luego de implementar un nuevo módulo, otro dejó de funcionar sin saber por qué.  \n",
    "\n",
    "En estas situaciones necesitamos un *sistema de control de versiones* o **VCS** (por sus siglas en inglés), para abordar estos inconvenientes."
   ]
  },
  {
   "attachments": {},
   "cell_type": "markdown",
   "metadata": {},
   "source": [
    "#### Pero... ¿qué es un VCS?"
   ]
  },
  {
   "attachments": {},
   "cell_type": "markdown",
   "metadata": {},
   "source": [
    "Es una herramienta que lleva el control de cambios realizados al código fuente que permite tener el historial de los mismos y una bitácora de las razones por los cuales fueron hechos, lo que facilita identificar y corregir situaciones donde el proyecto deja de funcionar. Otra de las funcionalidades es poder crear ramificaciones de una misma instancia y trabajar en múltiples versiones de la misma sin alterar el contenido original. \n",
    "\n",
    "Además, cuando trabajamos en un proyecto colaborativo nos permite identificar situaciones como:\n",
    "\n",
    "* Quién han realizado cambios en el código\n",
    "* Cuándo fue modificada alguna porción del código\n",
    "* Las razones de los cambios realizados\n",
    "* Cuándo dejo de funcionar algún módulo en específico\n"
   ]
  },
  {
   "attachments": {},
   "cell_type": "markdown",
   "metadata": {},
   "source": [
    "En cuanto a cuál VCS utilizar, *Git* el más comúnmente utilizado. "
   ]
  },
  {
   "attachments": {},
   "cell_type": "markdown",
   "metadata": {},
   "source": [
    "#### ¿Por qué Git?"
   ]
  },
  {
   "attachments": {},
   "cell_type": "markdown",
   "metadata": {},
   "source": [
    "La forma en la cual Git está estructurado permite integrar funciones como control de historial de cambios, soporte de ramificaciones y proyectos colabortivos de manera sencilla. Sin embargo, la interfaz de Git no es tan amigable. Por eso mismo debemos comprender cómo funciona Git para poder sacar provecho de esta herramienta."
   ]
  },
  {
   "attachments": {},
   "cell_type": "markdown",
   "metadata": {},
   "source": [
    "Git modela el historial de archivos y folders, dentro de un mismo directorio raíz, como una serie de capturas. En términos de Git, podemos definir los compomentes como:\n",
    "\n",
    "1. Tree\n",
    "2. Blob\n",
    "3. Commit\n",
    "\n",
    "Un *Tree* es un directorio que pueden contener archivos o fólderes dentro de él. Un archvivo dentro del directorio es llamado *blob*. Y la captura de los cambios realizados en el *tree* o *blob* se le conoce como *commit*."
   ]
  },
  {
   "attachments": {},
   "cell_type": "markdown",
   "metadata": {},
   "source": [
    "Cada vez que se realiza una captura o *commit*, esta se guarda en el historial del proyecto. Las capturas precedentes a otra se le llaman *padres*, haciendo alución a la forma en que se relacionan los *commits*.\n",
    "\n",
    "                                                                        o <-- o <-- o <-- o"
   ]
  },
  {
   "attachments": {},
   "cell_type": "markdown",
   "metadata": {},
   "source": [
    "En la imagen anterior, **o** representa un *commit* y las \\*<--\\* indican el *commit* precedente, o el *commit* padre. Un *commit* puede tener varios padres. Por ejemplo, cuando en el proyecto se están trabajando dos módulos en paralelo y llega el momento de unir la ramificación. Ambas ramas son padres del *commit* donde se unen.\n",
    "\n",
    "<p align=\"center\">\n",
    "  <img width=\"500\" height=\"150\" src=merge.jpg>\n",
    "</p>"
   ]
  },
  {
   "attachments": {},
   "cell_type": "markdown",
   "metadata": {},
   "source": [
    "Los *commits* en Git son inmutables. Sin embargo, no significa que los errores no se puedan corregir. Quiere decir que al momento de editar o corregir un *commit*, lo que en realidad sucede es que un nuevo *commit* es creado."
   ]
  },
  {
   "attachments": {},
   "cell_type": "markdown",
   "metadata": {},
   "source": [
    "Git ve estos componentes como un mismo tipo lladado *objeto*. Entonces, un *blob*, un *tree* y un *commit* son todos objetos. Todos los objetos en Git son representados con un *hash* único. Cuando se quiere hacer referencia a un objeto, se hace mediente el código hexadecimal que asociado a él y no con el objeto en sí. Para visualizar un objeto se puede utilizar el siguinete comando:\n",
    "\n",
    "<p style=\"text-align:center\">\n",
    "git cat-file -p #hash\n",
    "</p> "
   ]
  },
  {
   "attachments": {},
   "cell_type": "markdown",
   "metadata": {},
   "source": [
    "Debido a que esta representación es difícil de identificar, Git define nombres para los hases llamándolos *referencias*. Las referencias son punteros hacia los *commits*. Git hace uso de la referencia **maestra** o **master** como el último *commit* en la rama principal del proyecto y utiliza la referencia **encabezado** o **head** al indicar el *commit* actual que nos encontramos editando o revisando. "
   ]
  },
  {
   "attachments": {},
   "cell_type": "markdown",
   "metadata": {},
   "source": [
    "Se podría definir que el conjunto de objetos y referencias es un repositorio. A grandes rasgos, los comandos de Git únicamente manipulan el repositorio añadiendo y editando los objetos y referencias del proyecto. Git también tiene la facilidad de escoger específicamente qué modificaciones serán incluidas en sus *commit*. Esta manipulación se le conoce como *staging area* en Git."
   ]
  },
  {
   "attachments": {},
   "cell_type": "markdown",
   "metadata": {},
   "source": [
    "#### Comandos\n",
    "A continuación, una lista con los comandos más utilizados dentro de Git:"
   ]
  },
  {
   "attachments": {},
   "cell_type": "markdown",
   "metadata": {},
   "source": [
    "##### Básicos\n",
    "\n",
    "|Comando |Descripción|\n",
    "|:-----|:----:|\n",
    "|git help <*comando*> |despliega más información sobre el comando|\n",
    "|git init |crea un nuevo repositorio |\n",
    "|git status|indica un resumen del proyecto |\n",
    "|git add <*archivo*> |añade un archivo al *staging area*|\n",
    "|git commit |crea una nueva captura |\n",
    "|git log |muestra un breve resumen del historial |\n",
    "|git log --all --graph --decorate |muestra un resumen detallado del historial |\n",
    "|git diff <*archivo*> |muestra los cambios realizados en el archivo durante el *staging area* |\n",
    "|git diff <*#revisión*> <*archivo*> |muestra las diferencias en un archivo entre capturas |\n",
    "|git checkout <*#revisión*> |actualiza el encabezado a la rama actual |"
   ]
  },
  {
   "attachments": {},
   "cell_type": "markdown",
   "metadata": {},
   "source": [
    "##### Ramificación y uniones\n",
    "\n",
    "Al hablar de ramificaciones, se refiere a la capacidad de trabajar en diferentes instancias en paralelo creadas por un mismo *commit* padre. Sin embargo, puede que existan inconvenientes al momento de unir las ramas y que haya interferencia entre los objetos. Para esto, se cuenta con los siguientes comandos:\n",
    "\n",
    "|Comando |Descripción|\n",
    "|:-----|:----:|\n",
    "|git branch | muestras las ramas del proyecto|\n",
    "|git branch <*nombre*> |crea una nueva rama |\n",
    "|git checkout -b <*nombre*>| es una combinación de los comandos anteriores. Crea una rama y nos movemos a ella |\n",
    "|git merge <*#revisión*> | une una rama a una captura|\n",
    "|git mergetool | utiliza una herramienta para resolver conflictos al unir ramas |"
   ]
  },
  {
   "attachments": {},
   "cell_type": "markdown",
   "metadata": {},
   "source": [
    "##### Remotos\n",
    "\n",
    "Un remoto es un repositorio que, como indica su nombre, no se encuentra dentro de nuestro proyecto. Puede encontrarse localmente en nuestro ordenador o en la nube. Podemos enviar objetos y actualizaciones a nuestros remotos a través de los comandos:\n",
    "\n",
    "|Comando |Descripción|\n",
    "|:-----|:----:|\n",
    "|git remote | enumera los remotos creados|\n",
    "|git remote add <*nombre*> <*url*> | añade un remoto |\n",
    "|git push <*remoto*> <*rama local*>:<*rama remota*>| envía objetos al remoto y actualiza su referencia |\n",
    "|git branch --set-upstream-to=<*remoto*>/<*rama remota*>| relaciona un rama local con una remota|\n",
    "|git fetch | obtiene los objetos y referencias de un remoto |\n",
    "|git pull | obtiene los objetos y referencias de un remoto y la une a la rama actual |\n",
    "|git clone | descarga el repositorio de un remoto |"
   ]
  },
  {
   "attachments": {},
   "cell_type": "markdown",
   "metadata": {},
   "source": [
    "Git es un herramienta poderosa que nos permite gestionar de manera detallada y ordenada el ciclo de vida de un proyecto. Al contar con todas estas capacidades y funciones, aprender a utilizar Git aumenta el valor que aportamos a nuestros proyectos, así como también nos ayuda a utilizar buenas prácticas y llevar un preoceso limpio y claro. Ciertamente, Git es una herramienta que no puede faltar en nuestro repertorio."
   ]
  },
  {
   "cell_type": "markdown",
   "metadata": {},
   "source": []
  }
 ],
 "metadata": {
  "kernelspec": {
   "display_name": "PruebaClase",
   "language": "python",
   "name": "python3"
  },
  "language_info": {
   "name": "python",
   "version": "3.8.16"
  },
  "orig_nbformat": 4,
  "vscode": {
   "interpreter": {
    "hash": "736ad16281b5c6baaf36ed8996a71f293557286235f4d614e9639086d37503c6"
   }
  }
 },
 "nbformat": 4,
 "nbformat_minor": 2
}
